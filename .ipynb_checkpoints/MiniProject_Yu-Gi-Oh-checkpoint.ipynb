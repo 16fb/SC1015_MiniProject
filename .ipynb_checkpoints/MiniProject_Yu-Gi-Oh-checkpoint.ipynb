{
 "cells": [
  {
   "cell_type": "markdown",
   "id": "47d5da18",
   "metadata": {},
   "source": [
    "# Introduction\n",
    "\n",
    "### What is Yu-Gi-Oh\n",
    "\n",
    "### How dataset was obtained\n",
    "\n",
    "### Motivation for data analysis\n",
    "\n",
    "\n",
    "\n",
    "\n",
    "### Problem Statement\n",
    "\n",
    "To Summarise, The Questions We Are Looking To Answer:\n",
    "- Predict a monster's `level` from its `attack` and `defence`\n",
    "- Determine if and how a monster's `level` impacts its `price`\n",
    "- Predict `price` of card from its attributes\n",
    "\n",
    "Pointers <br>\n",
    "Make a point on how data is cleaned \n",
    "Still do EDA, and see the exceptions \n",
    "AKA showcase you know your stuff \n",
    "Can split monsters based on can summon normally, or need sacrifice to find. \n",
    " - Can become categorical (bucketing, similar to histograms) \n",
    "Show the trend of powercreep over the sets"
   ]
  },
  {
   "cell_type": "markdown",
   "id": "f1001a43",
   "metadata": {},
   "source": [
    "Typically we notice boss cards\n",
    "    - Big high levels, look cool\n",
    "    - Big attack and defence levels, capable to 3-4 shot your opponent.\n",
    "    - Big beefy bois\n",
    "    \n",
    "Confirm our suspicions\n",
    "    - Big high level bois have high attack and defence, go confirm it out.\n",
    "    - [ Predict level based on attack and d\n",
    "    efence ]\n",
    "    \n",
    "How do i identify a boss card?\n",
    "    \n",
    "Typicially, strong cards are expensive, thats kind of the point.\n",
    "If i pull a random card from a booster pack i never see before. What attributes can i see of a card, that indicates its expensive?\n",
    "    - [ Predict price of card (Linear Regressions) ]\n",
    "    \n",
    "Do cards that are higher level cost more?\n"
   ]
  },
  {
   "cell_type": "code",
   "execution_count": null,
   "id": "606aca26",
   "metadata": {},
   "outputs": [],
   "source": [
    "# Basic Libraries\n",
    "import numpy as np\n",
    "import pandas as pd\n",
    "import seaborn as sb\n",
    "import matplotlib.pyplot as plt # we only need pyplot\n",
    "sb.set() # set the default Seaborn style for graphics"
   ]
  },
  {
   "cell_type": "code",
   "execution_count": null,
   "id": "196d5e96",
   "metadata": {
    "scrolled": true
   },
   "outputs": [],
   "source": [
    "data_file_location = 'card_data.csv'\n",
    "\n",
    "yugioh_data = pd.read_csv(data_file_location,index_col=0)\n",
    "yugioh_data.head(10) # quick look of data"
   ]
  },
  {
   "cell_type": "markdown",
   "id": "edf9476b",
   "metadata": {},
   "source": [
    "# Exploratory Data Analysis [EDA]"
   ]
  },
  {
   "cell_type": "code",
   "execution_count": null,
   "id": "2c015a94",
   "metadata": {},
   "outputs": [],
   "source": [
    "# Information about the Variables\n",
    "yugioh_data.info()"
   ]
  },
  {
   "cell_type": "markdown",
   "id": "d1440280",
   "metadata": {},
   "source": [
    "<b> Listing down observations of dataset: </b>\n",
    "\n",
    "- 20 columns and 12815 rows.\n",
    "- 1 variables identified as int64 by default, and it seems is indeed Numeric.\n",
    "- 5 variables identified as float64 by default, and it seems are indeed Numeric.\n",
    "- 14 variables identified as object by default, \n",
    "    - 4 variables are Strings, which represent card text and should not be used for Categorical values.\n",
    "        - (name, desc, pend_desc, monster_desc)\n",
    "    - 1 variables is a JSON object, which represent link data to card images and should not be used for Categorical values.\n",
    "        - (card_images)\n",
    "    - 3 variables are JSON objects, which represent Categorical values.\n",
    "        - (card_sets, linkmarkers, banlist_info)\n",
    "    - 5 variables are Strings, which represent Categorical values.\n",
    "        - (type, frameType, race, archetype, attribute)\n",
    "    - 1 variables is a JSON object, which represent multiple Numeric values.\n",
    "        - (card_prices)\n",
    "\n",
    "None of the variables/features seem to have any missing value (have to check again, carefully).\n",
    "- card_prices is \n",
    "\n",
    "<b> Cleaning actions to be taken: </b> <br>\n",
    "   - Extract out numerical values from composite JSON object of bundled prices (`card_prices`)\n",
    "       - Extract our prices of each shop\n",
    "   - Drop columns irrelevant to our problem statement\n",
    "       - Text descriptions\n",
    "       - Images\n",
    "       - Values deemed irrelevant\n",
    "   - Drop non-monster card types\n",
    "    \n",
    "    \n",
    "<b> Creating new and additional columns for readibility + ease of use: </b> <br> \n",
    "   - New column `avg_price`, which is the mean price from different shops, ignoring null values\n",
    "   - New column `tribute`, which bins `Level` dependant on number of sacrifce monsters needed to summon the monster.\n",
    "   - Generalising variables into 0s and 1s for binary classification\n",
    "       - New column `sacrifice` => if sacrificed required for monster (`level` 5 and above)\n",
    "       - New column `effect` => if monster has an effect (`type` is not normal monster)\n",
    "       - New column `ban` => if card is banned in any format (`banlist_info` is not empty)"
   ]
  },
  {
   "cell_type": "markdown",
   "id": "3bc29ed5",
   "metadata": {},
   "source": [
    "### Convert level to Int64"
   ]
  },
  {
   "cell_type": "code",
   "execution_count": null,
   "id": "1cbb94b0",
   "metadata": {},
   "outputs": [],
   "source": [
    "yugioh_data['level'] = pd.to_numeric(yugioh_data['level']).astype('Int64')"
   ]
  },
  {
   "cell_type": "markdown",
   "id": "79e01bda",
   "metadata": {},
   "source": [
    "### Drop irrelevant columns about descriptions"
   ]
  },
  {
   "cell_type": "code",
   "execution_count": null,
   "id": "06fb8dd0",
   "metadata": {
    "scrolled": false
   },
   "outputs": [],
   "source": [
    "### Read from csv and Drop irrelevant columns about descriptions\n",
    "yugioh_data = pd.read_csv(data_file_location,index_col=0)\n",
    "yugioh_data = yugioh_data.drop(['desc','pend_desc','card_images','monster_desc','linkval','pend_desc','scale','linkmarkers'], axis=1)"
   ]
  },
  {
   "cell_type": "markdown",
   "id": "c6d58062",
   "metadata": {},
   "source": [
    "### Drop non-monsters from dataset"
   ]
  },
  {
   "cell_type": "code",
   "execution_count": null,
   "id": "4bde2472",
   "metadata": {},
   "outputs": [],
   "source": [
    "# Visulising unique types for categorical values\n",
    "unique_types = yugioh_data['type'].unique()\n",
    "print(unique_types)"
   ]
  },
  {
   "cell_type": "code",
   "execution_count": null,
   "id": "e648a1a5",
   "metadata": {},
   "outputs": [],
   "source": [
    "# Remove non-monsters from dataset.\n",
    "yugioh_data = yugioh_data[~yugioh_data['type'].isin(['Skill Card', 'Spell Card', 'Trap Card', 'Token'])]\n",
    "yugioh_data.head()"
   ]
  },
  {
   "cell_type": "markdown",
   "id": "b6bc802e",
   "metadata": {},
   "source": [
    "### Extract price data into 5 individual price columns from original JSON data"
   ]
  },
  {
   "cell_type": "code",
   "execution_count": null,
   "id": "09a3b846",
   "metadata": {
    "scrolled": false
   },
   "outputs": [],
   "source": [
    "import json\n",
    "\n",
    "# Strip the starting and ending '[]' from column\n",
    "yugioh_data['card_prices'] = yugioh_data['card_prices'].str.strip('[]')\n",
    "\n",
    "# Convert the string in the 'card_prices' column to a dictionary\n",
    "yugioh_data['card_prices'] = yugioh_data['card_prices'].apply(lambda x: json.loads(x.replace(\"'\", '\"')))\n",
    "\n",
    "# Normalize the 'card_prices' column to create separate columns for each key in the dictionary\n",
    "kekw = pd.json_normalize(yugioh_data['card_prices']).set_index(yugioh_data.index)\n",
    "yugioh_data = pd.concat([yugioh_data, kekw], axis=1)\n",
    "\n",
    "# Prices are currently of type string, convert price_columns to float64\n",
    "price_columns = ['cardmarket_price', 'tcgplayer_price', 'ebay_price', 'amazon_price', 'coolstuffinc_price']\n",
    "yugioh_data[price_columns] = yugioh_data[price_columns].apply(pd.to_numeric)\n",
    "\n",
    "# Now the DataFrame 'yugioh_data' contains 5 new columns with the prices from the 'card_prices' column as float64\n",
    "#yugioh_data[price_columns].head()\n",
    "#yugioh_data[price_columns].info()\n",
    "\n",
    "# Reset index of dataframe to be sequential\n",
    "yugioh_data = yugioh_data.reset_index(drop=False)\n",
    "\n",
    "yugioh_data[['card_prices'] + price_columns].head()"
   ]
  },
  {
   "cell_type": "markdown",
   "id": "f23d8a74",
   "metadata": {},
   "source": [
    "### Create a new column `avg_price` \n",
    "This is the mean price among all shops for a card, ignoring null values"
   ]
  },
  {
   "cell_type": "code",
   "execution_count": null,
   "id": "48061754",
   "metadata": {},
   "outputs": [],
   "source": [
    "# Set 0.00 price to NaN\n",
    "yugioh_data[price_columns] = yugioh_data[price_columns].replace(0.00, np.NaN)\n",
    "\n",
    "# Calculate mean price into ['avg_price']\n",
    "yugioh_data['avg_price'] = yugioh_data[price_columns].mean(axis=1, skipna=True)\n",
    "\n",
    "# Set Nan to 0.00 price \n",
    "yugioh_data[price_columns] = yugioh_data[price_columns].replace(np.NaN, 0.00)\n",
    "\n",
    "# Dataframe displayed\n",
    "price_columns.append(\"avg_price\")\n",
    "yugioh_data[price_columns].head()"
   ]
  },
  {
   "cell_type": "code",
   "execution_count": null,
   "id": "e1e749c3",
   "metadata": {},
   "outputs": [],
   "source": [
    "yugioh_data[price_columns].describe()"
   ]
  },
  {
   "cell_type": "code",
   "execution_count": null,
   "id": "dd065258",
   "metadata": {},
   "outputs": [],
   "source": [
    "yugioh_data.loc[yugioh_data['cardmarket_price'] >= 0.38 , '75priceQuartile'] = 1\n",
    "yugioh_data.loc[yugioh_data['cardmarket_price'] < 0.38 , '75priceQuartile'] = 0\n",
    "\n",
    "#yugioh_data['75priceQuartile'] = yugioh_data['avg_price']\n",
    "\n",
    "yugioh_data[['cardmarket_price','75priceQuartile']].head()"
   ]
  },
  {
   "cell_type": "markdown",
   "id": "e4e4182a",
   "metadata": {},
   "source": [
    "### Reduce skew of `card_prices`\n",
    "Remove rows with outlier price values for each shop's price\n",
    "- Remove prices above 100 Dollars\n",
    "- Remove prices of 0 Dollars (cardshop does not have card)"
   ]
  },
  {
   "cell_type": "code",
   "execution_count": null,
   "id": "d9218900",
   "metadata": {
    "scrolled": false
   },
   "outputs": [],
   "source": [
    "# Remove rows with prices that are missing or above 100.\n",
    "cardmarketRange = (yugioh_data['cardmarket_price'] > 0.00) & (yugioh_data['cardmarket_price'] < 100)\n",
    "tcgplayerRange = (yugioh_data['tcgplayer_price'] > 0.00) & (yugioh_data['tcgplayer_price'] < 100)\n",
    "ebayRange = (yugioh_data['ebay_price'] > 0.00) & (yugioh_data['ebay_price'] < 100)\n",
    "amazonRange = (yugioh_data['amazon_price'] > 0.00) & (yugioh_data['amazon_price'] < 100)\n",
    "coolstuffincRange = (yugioh_data['coolstuffinc_price'] > 0.00) & (yugioh_data['coolstuffinc_price'] < 100)\n",
    "\n",
    "yugioh_data = yugioh_data[cardmarketRange & tcgplayerRange & ebayRange & amazonRange & coolstuffincRange]\n",
    "\n",
    "yugioh_data[price_columns].describe()\n"
   ]
  },
  {
   "cell_type": "code",
   "execution_count": null,
   "id": "cbc0386e",
   "metadata": {},
   "outputs": [],
   "source": [
    "# boxplot and violin plot of cardmarket_price after removal of empty values and values above 100\n",
    "f, axes = plt.subplots(2, 1, figsize=(18, 4))\n",
    "sb.boxplot(data = yugioh_data['cardmarket_price'], orient = \"h\", ax = axes[0])\n",
    "sb.violinplot(data = yugioh_data['cardmarket_price'], orient = \"h\", ax = axes[1])"
   ]
  },
  {
   "cell_type": "markdown",
   "id": "aa05f370",
   "metadata": {},
   "source": [
    "### Using logarithm to combat skew\n",
    "Apply method to combat skewness in price data. (most prices are a dollar and below) <br>\n",
    "- Multiply 100 to convert price to integer values\n",
    "- Apply a logarithmic transformation to the data"
   ]
  },
  {
   "cell_type": "code",
   "execution_count": null,
   "id": "d6c2f72b",
   "metadata": {},
   "outputs": [],
   "source": [
    "### 2 Methods to prepare data for Logarithm\n",
    "# Increment values by 1\n",
    "#yugioh_data[\"cardmarket_price\"] = yugioh_data[\"cardmarket_price\"] + 1\n",
    "#yugioh_data['cardmarket_price'].describe()\n",
    "\n",
    "# Convert data to integer values by * 100\n",
    "#yugioh_data[\"cardmarket_price\"] = yugioh_data[\"cardmarket_price\"] * 100\n",
    "#yugioh_data['cardmarket_price'].describe()\n",
    "\n",
    "#Apply a logarithmic transformation to the data\n",
    "#yugioh_data['cardmarket_price'] = np.log(yugioh_data[\"cardmarket_price\"]) \n",
    "\n",
    "# Display plots after logaritmic skew management\n",
    "#f, axes = plt.subplots(2, 1, figsize=(18, 4))\n",
    "#sb.boxplot(data = yugioh_data['cardmarket_price'], orient = \"h\", ax = axes[0])\n",
    "#sb.violinplot(data = yugioh_data['cardmarket_price'], orient = \"h\", ax = axes[1])"
   ]
  },
  {
   "cell_type": "code",
   "execution_count": null,
   "id": "f6848a9e",
   "metadata": {},
   "outputs": [],
   "source": [
    "price_columns = ['cardmarket_price', 'tcgplayer_price', 'ebay_price', 'amazon_price', 'coolstuffinc_price']\n",
    "for var in price_columns:\n",
    "    # Convert data to integer values by * 100\n",
    "    yugioh_data[var] = yugioh_data[var] * 100\n",
    "    yugioh_data[var].describe()\n",
    "\n",
    "    # Apply a logarithmic transformation to the data\n",
    "    yugioh_data[var] = np.log(yugioh_data[var]) \n",
    "    \n",
    "    f, axes = plt.subplots(2, 1, figsize=(18, 4))\n",
    "    sb.boxplot(data = yugioh_data[var], orient = \"h\", ax = axes[0])\n",
    "    sb.violinplot(data = yugioh_data[var], orient = \"h\", ax = axes[1])\n"
   ]
  },
  {
   "cell_type": "code",
   "execution_count": null,
   "id": "6caf53f8",
   "metadata": {},
   "outputs": [],
   "source": [
    "price_columns = ['coolstuffinc_price']\n",
    "for var in price_columns:\n",
    "    # Convert data to integer values by * 100\n",
    "    yugioh_data[var] = yugioh_data[var] * 100\n",
    "    yugioh_data[var].describe()\n",
    "\n",
    "    #Apply a logarithmic transformation to the data\n",
    "    yugioh_data[var] = np.log(yugioh_data[var]) \n",
    "    \n",
    "    f, axes = plt.subplots(2, 1, figsize=(18, 4))\n",
    "    sb.boxplot(data = yugioh_data[var], orient = \"h\", ax = axes[0])\n",
    "    sb.violinplot(data = yugioh_data[var], orient = \"h\", ax = axes[1])\n"
   ]
  },
  {
   "cell_type": "markdown",
   "id": "c53ac2fb",
   "metadata": {},
   "source": [
    "### Separate \"Level\" into level ranges and bins\n",
    "Different level ranges requires different number of tribute monsters\n",
    "- Level 1 to 4 => 0 tribute\n",
    "- Level 5 to 6 => 1 tribute\n",
    "- Level 7 to 12 => 2 tribute"
   ]
  },
  {
   "cell_type": "code",
   "execution_count": null,
   "id": "152c9d55",
   "metadata": {},
   "outputs": [],
   "source": [
    "# Define the bins for the level ranges\n",
    "bins = [0.5, 4.0, 6.0, float('inf')]  \n",
    "\n",
    "# Define the labels for the level ranges\n",
    "labels = ['0', '1', '2']\n",
    "\n",
    "# Create a new column 'tribute' to store the bucketed groups\n",
    "yugioh_data['tribute'] = pd.cut(yugioh_data['level'], bins=bins, labels=labels, right=True)\n",
    "# If right==True (the default), then the bins [1.0, 4.0, 7.0, float('inf')] indicate (0.5,4.0], (4.0,6], (6,inf].\n",
    "# If right==False, bins will be the inbetween values, (1,2), (2,3), (3,4).\n",
    "\n",
    "tribute0 = yugioh_data[yugioh_data['level'].between(0.5, 4.5)]\n",
    "tribute1 = yugioh_data[yugioh_data['level'].between(4.5, 6.5)]\n",
    "tribute2 = yugioh_data[yugioh_data['level'] >= 7]\n",
    "\n",
    "# Display the new column\n",
    "yugioh_data[['name','level','tribute']].head(10)"
   ]
  },
  {
   "cell_type": "markdown",
   "id": "602762ab",
   "metadata": {},
   "source": [
    "### Separate variables into binary categories for binary classification\n",
    "- `sacrifice` => 1 if sacrificed required for monster (level 5 and above)\n",
    "- `effect` => 1 if monster has effect (card type is not normal monster)\n",
    "- `ban` => 1 if card is banned in a format (banned has a value)"
   ]
  },
  {
   "cell_type": "code",
   "execution_count": null,
   "id": "46ebf22f",
   "metadata": {},
   "outputs": [],
   "source": [
    "### sacrifice column\n",
    "yugioh_data['sacrifice'] = yugioh_data['level']\n",
    "yugioh_data.loc[yugioh_data['level'] >= 5, 'sacrifice'] = 1 #'Sacrifice'\n",
    "yugioh_data.loc[yugioh_data['level'] < 5, 'sacrifice'] = 0 #'NoSacrifice'\n",
    "\n",
    "# set column to Int64 from Float64\n",
    "yugioh_data['sacrifice'] = pd.to_numeric(yugioh_data['sacrifice']).astype('Int64')\n",
    "\n",
    "yugioh_data[['sacrifice','level','name']].head()"
   ]
  },
  {
   "cell_type": "code",
   "execution_count": null,
   "id": "706e91e6",
   "metadata": {
    "scrolled": true
   },
   "outputs": [],
   "source": [
    "### effect column\n",
    "yugioh_data['effect'] = yugioh_data['type']\n",
    "\n",
    "yugioh_data.loc[yugioh_data['type'] == 'Normal Monster', 'effect'] = 0 #'Normal Monster'\n",
    "yugioh_data.loc[yugioh_data['type'] != 'Normal Monster', 'effect'] = 1 #'Non-Normal Monster'\n",
    "\n",
    "# set column to Int64 from Float64\n",
    "yugioh_data['effect'] = pd.to_numeric(yugioh_data['effect']).astype('Int64')\n",
    "\n",
    "yugioh_data[['effect','type','name']].head()"
   ]
  },
  {
   "cell_type": "code",
   "execution_count": null,
   "id": "9d02f792",
   "metadata": {},
   "outputs": [],
   "source": [
    "### ban column\n",
    "yugioh_data['ban'] = yugioh_data['banlist_info']\n",
    "yugioh_data['ban'] = yugioh_data['ban'].fillna(0)\n",
    "yugioh_data.loc[yugioh_data['ban'] != 0, 'ban'] = 1\n",
    "\n",
    "# set column to Int64 from Float64\n",
    "yugioh_data['ban'] = pd.to_numeric(yugioh_data['ban']).astype('Int64')\n",
    "\n",
    "yugioh_data[['ban','banlist_info','name']].head()\n",
    "\n",
    "\n",
    "#yugioh_data.loc[(yugioh_data['ban'] == 1)]\n",
    "\n",
    "#yugioh_data[['ban']].value_counts()\n"
   ]
  },
  {
   "cell_type": "markdown",
   "id": "cab62b1e",
   "metadata": {},
   "source": [
    "# EDA OF NUMERIC VALUES\n"
   ]
  },
  {
   "cell_type": "markdown",
   "id": "f784dce1",
   "metadata": {},
   "source": [
    "### Generating Additional Numerical Columns"
   ]
  },
  {
   "cell_type": "code",
   "execution_count": null,
   "id": "7c7f94da",
   "metadata": {},
   "outputs": [],
   "source": [
    "# Generate New Numerical Columns\n",
    "yugioh_data['atk+def'] = yugioh_data.loc[:,['atk','def']].sum(axis=1)\n",
    "yugioh_data['atkSq'] = yugioh_data['atk'] * yugioh_data['atk']\n",
    "yugioh_data['defSq'] = yugioh_data['def'] * yugioh_data['def']\n",
    "yugioh_data['atkSq+defSq'] = yugioh_data['atkSq'] + yugioh_data['defSq']\n",
    "\n",
    "# Describe all numerical columns present now\n",
    "price_columns = ['cardmarket_price', 'tcgplayer_price', 'ebay_price', 'amazon_price', 'coolstuffinc_price', 'avg_price']\n",
    "numericalColumns = ['atk', 'def', 'level']\n",
    "newNumericalColumns = ['atk+def', 'atkSq', 'defSq', 'atkSq+defSq']\n",
    "\n",
    "numericalColumns.extend(price_columns)\n",
    "numericalColumns.extend(newNumericalColumns)"
   ]
  },
  {
   "cell_type": "code",
   "execution_count": null,
   "id": "e24c8fb0",
   "metadata": {},
   "outputs": [],
   "source": [
    "# Extract numeric data variables\n",
    "yugioh_numerical_data = pd.DataFrame(yugioh_data[numericalColumns])\n",
    "\n",
    "# Summary Statistics for all Variables\n",
    "yugioh_numerical_data.describe().round(2)"
   ]
  },
  {
   "cell_type": "code",
   "execution_count": null,
   "id": "0b3da666",
   "metadata": {},
   "outputs": [],
   "source": [
    "yugioh_data[numericalColumns].head()"
   ]
  },
  {
   "cell_type": "markdown",
   "id": "560ba312",
   "metadata": {},
   "source": [
    "## EDA of \"Level\"\n",
    "Generally in Yu-Gi-Oh, we understand that the higher the level of the monster, the stronger the mosnter is.\n",
    "\n",
    "From the below catplot and count data, we can find out that a typical monster would be level 4 since a majority number of monters are level 4."
   ]
  },
  {
   "cell_type": "code",
   "execution_count": null,
   "id": "9280b173",
   "metadata": {},
   "outputs": [],
   "source": [
    "print(yugioh_data[\"level\"].value_counts())\n",
    "\n",
    "sb.catplot(y = \"level\", data = yugioh_data, kind = \"count\", height = 4)"
   ]
  },
  {
   "cell_type": "markdown",
   "id": "e49e73d8",
   "metadata": {},
   "source": [
    "### Separate \"Level\" into level ranges and bins\n",
    "In Yu-Gi-Oh, monsters may require \"sacrificing\" other monsters to summon, they can be bin base on the rule below\n",
    "- Level 1 to 4 => 0 tribute\n",
    "- Level 5 to 6 => 1 tribute\n",
    "- Level 7 to inf => 2 tribute\n",
    "\n",
    "After we have bin the monsters into number of tribute required, it can be observed that the majority of monsters do not need \"sacrificing\" to summon. This would be further explored later as to if we can differentiate monsters that need \"sacrificing\" to summon to those that dont based on their numerical variables (eg. atk, def)"
   ]
  },
  {
   "cell_type": "code",
   "execution_count": null,
   "id": "ab7ead1e",
   "metadata": {},
   "outputs": [],
   "source": [
    "# Define the bins for the level ranges\n",
    "bins = [0.5, 4.0, 6.0, float('inf')]  \n",
    "\n",
    "# Define the labels for the level ranges\n",
    "labels = ['0', '1', '2']\n",
    "\n",
    "# Create a new column 'tribute' to store the bucketed groups\n",
    "yugioh_data['tribute'] = pd.cut(yugioh_data['level'], bins=bins, labels=labels, right=True)\n",
    "# If right==True (the default), then the bins [1.0, 4.0, 7.0, float('inf')] indicate (0.5,4.0], (4.0,6], (6,inf].\n",
    "# If right==False, bins will be the inbetween values, (1,2), (2,3), (3,4).\n",
    "\n",
    "tribute0 = yugioh_data[yugioh_data['level'].between(0.5, 4.5)]\n",
    "tribute1 = yugioh_data[yugioh_data['level'].between(4.5, 6.5)]\n",
    "tribute2 = yugioh_data[yugioh_data['level'] >= 7]\n",
    "\n",
    "# Display the new column\n",
    "#yugioh_data[['name','level','tribute']].head(10)\n",
    "\n",
    "print(yugioh_data[\"tribute\"].value_counts())\n",
    "\n",
    "sb.catplot(y = \"tribute\", data = yugioh_data, kind = \"count\", height = 3)"
   ]
  },
  {
   "cell_type": "code",
   "execution_count": null,
   "id": "f844c191",
   "metadata": {},
   "outputs": [],
   "source": [
    "yugioh_data.info()"
   ]
  },
  {
   "cell_type": "code",
   "execution_count": null,
   "id": "8f610009",
   "metadata": {},
   "outputs": [],
   "source": [
    "# Draw the distributions of all variables len(numericalColumns)\n",
    "#f, axes = plt.subplots(len(numericalColumns), 3, figsize=(18, 24))\n",
    "#\n",
    "#yugioh_numerical_data = yugioh_numerical_data.reset_index(drop=True)\n",
    "#\n",
    "#count = 0\n",
    "#for var in yugioh_numerical_data:\n",
    "#    sb.boxplot(data = yugioh_numerical_data[var], orient = \"h\", ax = axes[count,0])\n",
    "#    sb.histplot(data = yugioh_numerical_data[var], ax = axes[count,1])\n",
    "#    sb.violinplot(data = yugioh_numerical_data[var], orient = \"h\", ax = axes[count,2])\n",
    "#    count += 1"
   ]
  },
  {
   "cell_type": "markdown",
   "id": "d6268989",
   "metadata": {},
   "source": [
    "### Correlation Matrix of Numerical Variables"
   ]
  },
  {
   "cell_type": "code",
   "execution_count": null,
   "id": "5bb633bf",
   "metadata": {
    "scrolled": false
   },
   "outputs": [],
   "source": [
    "# Correlation Matrix\n",
    "#print(yugioh_numerical_data.corr())\n",
    "\n",
    "# Heatmap of the Correlation Matrix\n",
    "f = plt.figure(figsize=(16, 16))\n",
    "sb.heatmap(yugioh_numerical_data.corr(), vmin = -1, vmax = 1, linewidths = 1,\n",
    "           annot = True, fmt = \".2f\", annot_kws = {\"size\": 18}, cmap = \"RdBu\")"
   ]
  },
  {
   "cell_type": "code",
   "execution_count": null,
   "id": "ff3dfda7",
   "metadata": {},
   "outputs": [],
   "source": [
    "sb.pairplot(data = yugioh_numerical_data[['atk', 'def', 'level']],\n",
    "            kind=\"reg\", height=3, plot_kws={'line_kws':{'color':'red'}, 'scatter_kws':{'alpha': 0.1}},\n",
    "           markers = \".\")"
   ]
  },
  {
   "cell_type": "code",
   "execution_count": null,
   "id": "1e5d416b",
   "metadata": {},
   "outputs": [],
   "source": [
    "sb.pairplot(data = yugioh_numerical_data[['atkSq+defSq','level','cardmarket_price']],\n",
    "            kind=\"reg\", height=3, plot_kws={'line_kws':{'color':'red'}, 'scatter_kws':{'alpha': 0.1}},\n",
    "           markers = \".\")"
   ]
  },
  {
   "cell_type": "markdown",
   "id": "78a6b555",
   "metadata": {},
   "source": [
    "### Realisation for linear regression / Analysis of correlation matrix\n",
    "Despite measures taken to "
   ]
  },
  {
   "cell_type": "code",
   "execution_count": null,
   "id": "0a37dc10",
   "metadata": {},
   "outputs": [],
   "source": [
    "yugioh_numerical_data.head()"
   ]
  },
  {
   "cell_type": "code",
   "execution_count": null,
   "id": "dab72713",
   "metadata": {},
   "outputs": [],
   "source": [
    "yugioh_data.head()"
   ]
  },
  {
   "cell_type": "code",
   "execution_count": null,
   "id": "dffa8ccd",
   "metadata": {},
   "outputs": [],
   "source": [
    "#yugioh_data_normalMonsters = yugioh_data[yugioh_data['type'].isin(['Normal Monster'])]\n",
    "\n",
    "# Extract numeric data variables\n",
    "#yugioh_numerical_data = pd.DataFrame(yugioh_data[numericalColumns])\n",
    "\n",
    "yugioh_numerical_data_normalMonsters = yugioh_data.loc[yugioh_data['type'] == \"Synchro Monster\", numericalColumns]\n",
    "\n",
    "\n",
    "#yugioh_data_effectMonsters = yugioh_data[yugioh_data['type'].isin(['Effect Monster'])]\n",
    "\n",
    "yugioh_numerical_data_effectMonsters = yugioh_data.loc[yugioh_data['type'] == \"Pendulum Effect Monster\", numericalColumns]"
   ]
  },
  {
   "cell_type": "code",
   "execution_count": null,
   "id": "a5612acf",
   "metadata": {},
   "outputs": [],
   "source": [
    "# Correlation Matrix\n",
    "#print(yugioh_numerical_data.corr())\n",
    "\n",
    "#yugioh_numerical_data_effectMonsters = yugioh_numerical_data[]\n",
    "\n",
    "# Heatmap of the Correlation Matrix\n",
    "f = plt.figure(figsize=(16, 16))\n",
    "sb.heatmap(yugioh_numerical_data_effectMonsters.corr(), vmin = -1, vmax = 1, linewidths = 1,\n",
    "           annot = True, fmt = \".2f\", annot_kws = {\"size\": 18}, cmap = \"RdBu\")"
   ]
  },
  {
   "cell_type": "code",
   "execution_count": null,
   "id": "f14d2738",
   "metadata": {},
   "outputs": [],
   "source": [
    "# Correlation Matrix\n",
    "#print(yugioh_numerical_data.corr())\n",
    "\n",
    "#yugioh_numerical_data_normalMonsters = yugioh_numerical_data[]\n",
    "\n",
    "# Heatmap of the Correlation Matrix\n",
    "f = plt.figure(figsize=(16, 16))\n",
    "sb.heatmap(yugioh_numerical_data_normalMonsters.corr(), vmin = -1, vmax = 1, linewidths = 1,\n",
    "           annot = True, fmt = \".2f\", annot_kws = {\"size\": 18}, cmap = \"RdBu\")"
   ]
  },
  {
   "cell_type": "code",
   "execution_count": null,
   "id": "7dd94165",
   "metadata": {},
   "outputs": [],
   "source": [
    "# Scatterplot of \n",
    "\n",
    "y = yugioh_numerical_data_effectMonsters[\"level\"]\n",
    "x = yugioh_numerical_data_effectMonsters[\"atk\"]\n",
    "\n",
    "#find line of best fit\n",
    "a, b = np.polyfit(x, y, 1)\n",
    "\n",
    "#add points to plot\n",
    "plt.scatter(x, y)\n",
    "\n",
    "#add line of best fit to plot\n",
    "plt.plot(x, a*x+b)  \n",
    "\n",
    "plt.scatter(x, y)\n",
    "plt.show()\n",
    "\n",
    "#f = plt.figure(figsize=(16, 16))\n",
    "#sb.heatmap(yugioh_numerical_data_normalMonsters.corr(), vmin = -1, vmax = 1, linewidths = 1,\n",
    "#           annot = True, fmt = \".2f\", annot_kws = {\"size\": 18}, cmap = \"RdBu\")"
   ]
  },
  {
   "cell_type": "markdown",
   "id": "5dc1ed48",
   "metadata": {},
   "source": [
    "\n",
    "\n",
    "\n"
   ]
  },
  {
   "cell_type": "markdown",
   "id": "6a939c1f",
   "metadata": {},
   "source": [
    "# Linear Regresstion of Numerical Values"
   ]
  },
  {
   "cell_type": "markdown",
   "id": "9989f396",
   "metadata": {},
   "source": [
    "### Analysis of correlation coefficients\n",
    "The columns with good correlation to `level` so far are `atk` `def` `atkSq` `defSq` `atkSq + defSq`.\n",
    "Interestingly, the higest correlation to level, is actually `atkSq + defSq`. \n",
    "Which is better than both atk or def taken separately.\n",
    "As the squares of the values have higher correlation than the values themselves, \n",
    "This suggests that higher absolute value of atk and def have a greater impact in prediciting level than just atk or def itself."
   ]
  },
  {
   "cell_type": "code",
   "execution_count": null,
   "id": "ce634e04",
   "metadata": {},
   "outputs": [],
   "source": [
    "predictors = [\"atk\", \"def\", \"atkSq\", \"defSq\", \"atkSq+defSq\"]\n",
    "predictors.append(\"name\")\n",
    "pd.DataFrame(yugioh_data[predictors]).head()"
   ]
  },
  {
   "cell_type": "markdown",
   "id": "54f5a6c2",
   "metadata": {},
   "source": [
    "### Handling NaN values for def\n",
    "Link monster have NaN value for defence, for regression purposes we'll set their defence as 0"
   ]
  },
  {
   "cell_type": "code",
   "execution_count": null,
   "id": "702c22cd",
   "metadata": {},
   "outputs": [],
   "source": [
    "# Set NaN defence to 0.0\n",
    "yugioh_data[predictors] = yugioh_data[predictors].replace(np.NaN, 0.00)\n"
   ]
  },
  {
   "cell_type": "markdown",
   "id": "a02c6027",
   "metadata": {},
   "source": [
    "### Handling NaN values for level\n",
    "Link monsters have NaN values for levels, for regression purposes we'll set their level as 0"
   ]
  },
  {
   "cell_type": "code",
   "execution_count": null,
   "id": "0d303e4e",
   "metadata": {},
   "outputs": [],
   "source": [
    "yugioh_data[[\"level\"]] = yugioh_data[[\"level\"]].replace(np.NaN, 0.00)\n",
    "\n",
    "#yugioh_data[[\"level\",\"name\"]][yugioh_data[[\"level\",\"name\"]].isnull().any(axis=1)]\n",
    "\n",
    "yugioh_data_less_link_monsters = yugioh_data.drop(yugioh_data[yugioh_data['type'] == 'Link Monster'].index)"
   ]
  },
  {
   "cell_type": "code",
   "execution_count": null,
   "id": "7b7db063",
   "metadata": {},
   "outputs": [],
   "source": [
    "# Import essential models and functions from sklearn\n",
    "from sklearn.linear_model import LinearRegression\n",
    "from sklearn.model_selection import train_test_split\n",
    "from sklearn.metrics import mean_squared_error\n",
    "\n",
    "# Dataset\n",
    "dataset = yugioh_data_less_link_monsters\n",
    "\n",
    "# Extract Response and Predictors\n",
    "predictors = [\"atkSq\", \"atkSq+defSq\", \"atk+def\"]\n",
    "reponse_variable = [\"level\"]\n",
    "\n",
    "X = pd.DataFrame(dataset[predictors])\n",
    "y = pd.DataFrame(dataset[reponse_variable])\n",
    "\n",
    "# Split the Dataset into Train and Test\n",
    "X_train, X_test, y_train, y_test = train_test_split(X, y, test_size = 0.20)\n",
    "\n",
    "print(X_train.shape)\n",
    "print(y_train.shape)\n",
    "\n",
    "# Linear Regression using Train Data\n",
    "linreg = LinearRegression()         # create the linear regression object\n",
    "linreg.fit(X_train, y_train)        # train the linear regression model\n",
    "\n",
    "# Coefficients of the Linear Regression line\n",
    "print('Intercept of Regression \\t: b = ', linreg.intercept_)\n",
    "print('Coefficients of Regression \\t: a = ', linreg.coef_)\n",
    "print()\n",
    "\n",
    "# Print the Coefficients against Predictors\n",
    "print(pd.DataFrame(list(zip(X_train.columns, linreg.coef_[0])), columns = [\"Predictors\", \"Coefficients\"]))\n",
    "print()\n",
    "\n",
    "# Predict Response corresponding to Predictors\n",
    "y_train_pred = linreg.predict(X_train)\n",
    "y_test_pred = linreg.predict(X_test)\n",
    "\n",
    "# Plot the training data and regression line.\n",
    "#f = plt.figure(figsize=(16, 8))\n",
    "#plt.scatter(X_train, y_train, color = \"green\")\n",
    "##plt.scatter(X_test, y_test_pred, color = \"red\")\n",
    "#plt.axline((0, linreg.intercept_.item()), slope=linreg.coef_.item(), label='by slope', linewidth=4, color='r')\n",
    "#plt.show()\n",
    "\n",
    "# Plot the test data and regression line.\n",
    "#f = plt.figure(figsize=(16, 8))\n",
    "#plt.scatter(X_test, y_test, color = \"green\")\n",
    "#plt.scatter(X_test, y_test_pred, color = \"red\")\n",
    "#plt.axline((0, linreg.intercept_.item()), slope=linreg.coef_.item(), label='by slope', linewidth=4, color='r')\n",
    "#plt.show()"
   ]
  },
  {
   "cell_type": "markdown",
   "id": "eabcc289",
   "metadata": {},
   "source": [
    "### Conclusion of linear regression\n"
   ]
  },
  {
   "cell_type": "code",
   "execution_count": null,
   "id": "dc9fd71e",
   "metadata": {},
   "outputs": [],
   "source": [
    "# Check the Goodness of Fit (on Train Data)\n",
    "print(\"Goodness of Fit of Model \\tTrain Dataset\")\n",
    "print(\"Explained Variance (R^2) \\t:\", linreg.score(X_train, y_train))\n",
    "print(\"Mean Squared Error (MSE) \\t:\", mean_squared_error(y_train, y_train_pred))\n",
    "print()\n",
    "\n",
    "# Check the Prediction Accuracy (on Test Data)\n",
    "print(\"Prediction Accuracy      \\tTest Dataset\")\n",
    "print(\"Explained Variance (R^2) \\t:\", linreg.score(X_test, y_test))\n",
    "print(\"Mean Squared Error (MSE) \\t:\", mean_squared_error(y_test, y_test_pred))\n",
    "print()"
   ]
  },
  {
   "cell_type": "code",
   "execution_count": null,
   "id": "fbed7505",
   "metadata": {},
   "outputs": [],
   "source": [
    "# Import essential models and functions from sklearn\n",
    "from sklearn.linear_model import LinearRegression\n",
    "from sklearn.model_selection import train_test_split\n",
    "from sklearn.metrics import mean_squared_error\n",
    "\n",
    "# Dataset\n",
    "dataset = yugioh_data_less_link_monsters\n",
    "\n",
    "# Extract Response and Predictors\n",
    "predictors = [\"atkSq+defSq\"]\n",
    "reponse_variable = [\"level\"]\n",
    "\n",
    "X = pd.DataFrame(dataset[predictors])\n",
    "y = pd.DataFrame(dataset[reponse_variable])\n",
    "\n",
    "# Split the Dataset into Train and Test\n",
    "X_train, X_test, y_train, y_test = train_test_split(X, y, test_size = 0.20)\n",
    "\n",
    "print(X_train.shape)\n",
    "print(y_train.shape)\n",
    "\n",
    "# Linear Regression using Train Data\n",
    "linreg = LinearRegression()         # create the linear regression object\n",
    "linreg.fit(X_train, y_train)        # train the linear regression model\n",
    "\n",
    "# Coefficients of the Linear Regression line\n",
    "print('Intercept of Regression \\t: b = ', linreg.intercept_)\n",
    "print('Coefficients of Regression \\t: a = ', linreg.coef_)\n",
    "print()\n",
    "\n",
    "# Print the Coefficients against Predictors\n",
    "print(pd.DataFrame(list(zip(X_train.columns, linreg.coef_[0])), columns = [\"Predictors\", \"Coefficients\"]))\n",
    "print()\n",
    "\n",
    "# Predict Response corresponding to Predictors\n",
    "y_train_pred = linreg.predict(X_train)\n",
    "y_test_pred = linreg.predict(X_test)\n",
    "\n",
    "# Plot the training data and regression line.\n",
    "f = plt.figure(figsize=(16, 8))\n",
    "plt.scatter(X_train, y_train, color = \"green\")\n",
    "##plt.scatter(X_test, y_test_pred, color = \"red\")\n",
    "plt.axline((0, linreg.intercept_.item()), slope=linreg.coef_.item(), label='by slope', linewidth=4, color='r')\n",
    "plt.show()\n",
    "\n",
    "# Plot the test data and regression line.\n",
    "f = plt.figure(figsize=(16, 8))\n",
    "plt.scatter(X_test, y_test, color = \"green\")\n",
    "plt.scatter(X_test, y_test_pred, color = \"red\")\n",
    "plt.axline((0, linreg.intercept_.item()), slope=linreg.coef_.item(), label='by slope', linewidth=4, color='r')\n",
    "plt.show()"
   ]
  },
  {
   "cell_type": "code",
   "execution_count": null,
   "id": "fa843132",
   "metadata": {},
   "outputs": [],
   "source": [
    "# Check the Goodness of Fit (on Train Data)\n",
    "print(\"Goodness of Fit of Model \\tTrain Dataset\")\n",
    "print(\"Explained Variance (R^2) \\t:\", linreg.score(X_train, y_train))\n",
    "print(\"Mean Squared Error (MSE) \\t:\", mean_squared_error(y_train, y_train_pred))\n",
    "print()\n",
    "\n",
    "# Check the Prediction Accuracy (on Test Data)\n",
    "print(\"Prediction Accuracy      \\tTest Dataset\")\n",
    "print(\"Explained Variance (R^2) \\t:\", linreg.score(X_test, y_test))\n",
    "print(\"Mean Squared Error (MSE) \\t:\", mean_squared_error(y_test, y_test_pred))\n",
    "print()"
   ]
  },
  {
   "cell_type": "markdown",
   "id": "b8a1acbc",
   "metadata": {},
   "source": [
    "# EDA of Categorical Variable for Card Price\n",
    "Using the following variables to predict card price on different platform\n",
    "\n",
    "From the results, it was found that the categories alone is not conclusive to the price of the cards. The price range for all the categorical variables in the differen categories overlaps heavily and many are not consistent between platforms. This could be attributed to the fact that each card price varies on a combination of all the variables.\n",
    "\n",
    "However, it was still found that `frameType` had better categorical variables that covers a more distinct range for card prices accross all the different platform.\n",
    "The highest priced `frameType` catgories are:\n",
    "- \"xyz\"\n",
    "- \"synchro\"\n",
    "- \"fusion\"\n",
    "\n",
    "The lowest priced `frameType` catgories are:\n",
    "- \"normal_pendulum\"\n",
    "- \"effect_pendulum\"\n",
    "- \"effect\"\n",
    "\n",
    "Number Of tribute/level is also very consitent for all the card prices among all the differnt platform.With the higher level/tribute, the higher the price."
   ]
  },
  {
   "cell_type": "code",
   "execution_count": null,
   "id": "6e3296ad",
   "metadata": {},
   "outputs": [],
   "source": [
    "categories = ['level','tribute','race','attribute','type','frameType']\n",
    "#categories = ['tribute','frameType']\n",
    "price_columns = ['cardmarket_price', 'tcgplayer_price', 'ebay_price', 'amazon_price', 'coolstuffinc_price', 'avg_price']\n",
    "yugioh_data_categorical = yugioh_data[categories+price_columns]\n",
    "\n",
    "#yugioh_data_categorical = tribute0[categories+price_columns]\n",
    "#yugioh_data_categorical = yugioh_data_categorical[(yugioh_data_categorical['frameType'] == \"normal\")]\n",
    "\n",
    "for var in categories:\n",
    "    print(yugioh_data_categorical[var].value_counts())\n",
    "    #print(\"Number of categories: \", yugioh_data_categorical[var].value_counts().count())\n",
    "    print()"
   ]
  },
  {
   "cell_type": "code",
   "execution_count": null,
   "id": "3a60ec03",
   "metadata": {
    "scrolled": false
   },
   "outputs": [],
   "source": [
    "#yugioh_data.info()\n",
    "#yugioh_data.head()\n",
    "\n",
    "for price_var in price_columns:\n",
    "    print(price_var)\n",
    "    f, axes = plt.subplots(len(categories), 1, figsize=(18, 30))\n",
    "    count = 0\n",
    "    for var in categories:\n",
    "        sb.boxplot(data = yugioh_data_categorical, x=price_var, y=var, orient = 'h', ax = axes[count], order = yugioh_data_categorical.groupby(var)[price_var].median().sort_values().index)\n",
    "        count+=1\n",
    "    plt.show()"
   ]
  },
  {
   "cell_type": "markdown",
   "id": "2307d208",
   "metadata": {},
   "source": [
    "Given the lack of conclusive results from the EDA for categorical variable of card price, we decided to exlplore two other categorical variable mainly `tribute` and `frameType`"
   ]
  },
  {
   "cell_type": "markdown",
   "id": "2d01f644",
   "metadata": {},
   "source": [
    "# EDA of Categorical Variable for Sacrifice\n",
    "Using the following variables to predict `tribute`: `atk`, `def`, `atk+def`, `atkSq+defSq`\n",
    "\n",
    "In Yu-Gi-Oh, when a monster is level 5 or above it would require sacrifice to summon it. Thus by using the following variable, we would be checking if it is possible to predict if a monster requires sacrifice to summon.\n",
    "\n",
    "From our results below, `atkSq+defSq` gave the best results followed by `atk`. Both had very distinct interquartile range from each other"
   ]
  },
  {
   "cell_type": "code",
   "execution_count": null,
   "id": "abfb9b4a",
   "metadata": {},
   "outputs": [],
   "source": [
    "categories = ['atk','def','atk+def','atkSq+defSq','tribute']\n",
    "yugioh_data_categorical = yugioh_data[categories]\n",
    "#yugioh_data_categorical = yugioh_data_categorical[(yugioh_data_categorical['frameType'] == \"normal\")]\n",
    "\n",
    "print(yugioh_data_categorical['tribute'].value_counts())"
   ]
  },
  {
   "cell_type": "code",
   "execution_count": null,
   "id": "6fb1a52f",
   "metadata": {
    "scrolled": false
   },
   "outputs": [],
   "source": [
    "#yugioh_data.info()\n",
    "#yugioh_data.head()\n",
    "\n",
    "f, axes = plt.subplots(len(categories)-1, 1, figsize=(18, 20))\n",
    "count = 0\n",
    "for var in categories[:-1]:\n",
    "    sb.boxplot(x = var, y = 'tribute', data = yugioh_data_categorical, orient = \"h\", ax = axes[count])\n",
    "    count+=1\n"
   ]
  },
  {
   "cell_type": "markdown",
   "id": "9b28ea62",
   "metadata": {},
   "source": [
    "# Creating Decision Tree for sacrifice\n",
    "Creating a ML model using a decision tree to predict if a monster requires \"sacrificing\" to summon based on `atk` and `def`.\n",
    "We created an ML model that can predict accurately if a monster requires sacrifice with a Classification Accuracy of around 0.9 for both train and test. The result is also relatively balance with False Positive and False Negative being close."
   ]
  },
  {
   "cell_type": "code",
   "execution_count": null,
   "id": "ae491138",
   "metadata": {},
   "outputs": [],
   "source": [
    "# Import essential models and functions from sklearn\n",
    "from sklearn.tree import DecisionTreeClassifier\n",
    "from sklearn.model_selection import train_test_split\n",
    "from sklearn.metrics import confusion_matrix\n",
    "from sklearn.tree import plot_tree\n",
    "from sklearn.metrics import confusion_matrix\n",
    "\n",
    "def tree_measure(CM):\n",
    "    \n",
    "    TN = CM[0][0]\n",
    "    FN = CM[0][1]\n",
    "    TP = CM[1][1]\n",
    "    FP = CM[1][0]\n",
    "    #print(\"TN:\", TN)\n",
    "    #print(\"FN:\", FN)\n",
    "    #print(\"TP:\", TP)\n",
    "    #print(\"FP:\", FP)\n",
    "\n",
    "    # True positive rate\n",
    "    TPR = TP/(TP+FN)\n",
    "    print(\"True positive rate: \", TPR)\n",
    "    \n",
    "    # False positive rate\n",
    "    FPR = FP/(FP+TN)\n",
    "    print(\"False positive rate: \", FPR)\n",
    "    \n",
    "    # True negative rate\n",
    "    TNR = TN/(TN+FP) \n",
    "    print(\"True negative rate: \", TNR)\n",
    "    \n",
    "    # False negative rate\n",
    "    FNR = FN/(TP+FN)\n",
    "    print(\"False negative rate: \", FNR)\n",
    "    \n",
    "    # Overall accuracy\n",
    "    ACC = (TP+TN)/(TP+FP+FN+TN)\n",
    "    print(\"Classification Accuracy: \", ACC)\n",
    "    \n",
    "def create_DecTree_ConfusionMatrix(x_var=None, y_var=None, df=None, max_depth=3):\n",
    "    # Extract collumns Dataset\n",
    "    y_data = pd.DataFrame(df[y_var])   # Response\n",
    "    x_data = pd.DataFrame(df[x_var])   # Predictor\n",
    "\n",
    "    # Split into Train and Test at 75:25 ratio\n",
    "    x_train, x_test, y_train, y_test = train_test_split(x_data, y_data, test_size = 0.25, random_state=20)\n",
    "\n",
    "    dectree = DecisionTreeClassifier(max_depth=max_depth)#control depth\n",
    "    # Decision Tree using Train Data\n",
    "    dectree.fit(x_train, y_train)                    # train the decision tree model\n",
    "    print()\n",
    "    \n",
    "    # Plot Decision tree\n",
    "    f = plt.figure(figsize=(20+max_depth,22+max_depth))\n",
    "    plot_tree(dectree, filled=True, rounded=True, feature_names=list(x_train.columns), class_names=[\"No\",\"Yes\"], fontsize=12)\n",
    "\n",
    "    # Predict Train and Test\n",
    "    y_train_pred = dectree.predict(x_train)\n",
    "    y_test_pred = dectree.predict(x_test)\n",
    "\n",
    "    #Creating two-way Confusion Matrix for train and test\n",
    "    CM_train = confusion_matrix(y_train, y_train_pred)\n",
    "    CM_test = confusion_matrix(y_test, y_test_pred)\n",
    "\n",
    "    # Print the Classification Accuracy, True Positive Rate and False Positive Rate\n",
    "    print(\"===Using\", x_var, \"to predict\", y_var, \"===\")\n",
    "    print(\"\\nTrain:\")\n",
    "    tree_measure(CM_train)\n",
    "    print(\"\\nTest:\")\n",
    "    tree_measure(CM_test)\n",
    "\n",
    "    # Plot the two-way Confusion Matrix\n",
    "    f, axes = plt.subplots(1, 2, figsize=(12, 4))\n",
    "\n",
    "    sb.heatmap(CM_train, annot = True, fmt=\".0f\", annot_kws={\"size\": 18}, ax = axes[0])\n",
    "    sb.heatmap(CM_test, annot = True, fmt=\".0f\", annot_kws={\"size\": 18}, ax = axes[1])\n",
    "    axes[0].set(xlabel=\"Train\")\n",
    "    axes[1].set(xlabel=\"Test\")\n",
    "    \n",
    "    return dectree, x_train, x_test, y_train, y_test"
   ]
  },
  {
   "cell_type": "code",
   "execution_count": null,
   "id": "f53a71f8",
   "metadata": {},
   "outputs": [],
   "source": [
    "#Remove na values from 'sacrifice'\n",
    "print(\"Check na value:\", yugioh_data['sacrifice'].isnull().values.any())\n",
    "predictor = ['atk','def']\n",
    "response = ['sacrifice']\n",
    "yugioh_data_decisionTree_sacrifice = yugioh_data[predictor+response].dropna(subset = ['sacrifice'])\n",
    "print(\"check na value:\", yugioh_data_decisionTree_sacrifice['sacrifice'].isnull().values.any())"
   ]
  },
  {
   "cell_type": "code",
   "execution_count": null,
   "id": "12ef40d5",
   "metadata": {
    "scrolled": false
   },
   "outputs": [],
   "source": [
    "dectree, x_train, x_test, y_train, y_test = create_DecTree_ConfusionMatrix(x_var=predictor, y_var=response, df=yugioh_data_decisionTree_sacrifice, max_depth=3)"
   ]
  },
  {
   "cell_type": "markdown",
   "id": "21290a02",
   "metadata": {},
   "source": [
    "# EDA of Categorical Variable of Cards with Effect\n",
    "Using the following variables to predict `effect`: `atk`, `def`, `atk+def`, `atkSq`, `defSq`, `level`, `atkSq+defSq`\n",
    "\n",
    "In Yu-Gi-Oh, when a monsters can have unique effect. We would be checking if it is possible to predict if a monster is likely to be a normal monster or an effect monster(not normal) using the base variables of a monster card.\n",
    "\n",
    "From our results below, it is difficult to determine if a monster is a normal or an effect monster from just a single variable since all the interquartile range in each box plot overlaps heavily with each other."
   ]
  },
  {
   "cell_type": "code",
   "execution_count": null,
   "id": "c09ff848",
   "metadata": {},
   "outputs": [],
   "source": [
    "categories = ['atk','def','atk+def','atkSq+defSq','level','effect']\n",
    "yugioh_data_categorical = yugioh_data[categories]\n",
    "#yugioh_data_categorical = tribute0[categories]\n",
    "\n",
    "#yugioh_data_categorical = yugioh_data_categorical[(yugioh_data_categorical['frameType'] == \"normal\")]\n",
    "\n",
    "print(yugioh_data_categorical['effect'].value_counts())"
   ]
  },
  {
   "cell_type": "code",
   "execution_count": null,
   "id": "e88161f5",
   "metadata": {
    "scrolled": false
   },
   "outputs": [],
   "source": [
    "#yugioh_data.info()\n",
    "#yugioh_data.head()\n",
    "\n",
    "f, axes = plt.subplots(len(categories)-1, 1, figsize=(18, 20))\n",
    "count = 0\n",
    "for var in categories[:-1]:\n",
    "    sb.boxplot(x = var, y = 'effect', data = yugioh_data_categorical, orient = \"h\", ax = axes[count])\n",
    "    count+=1"
   ]
  },
  {
   "cell_type": "markdown",
   "id": "eb8be31f",
   "metadata": {},
   "source": [
    "# Creating Decision Tree for Effect\n",
    "Predicting if a monster is an non-normal monster."
   ]
  },
  {
   "cell_type": "code",
   "execution_count": null,
   "id": "1feae873",
   "metadata": {},
   "outputs": [],
   "source": [
    "print(\"Check na value:\", yugioh_data['effect'].isnull().values.any())\n",
    "predictor = ['atk','def','level']\n",
    "response = ['effect']\n",
    "yugioh_data_decisionTree_effect = yugioh_data[predictor+response]\n",
    "yugioh_data_decisionTree_effect['effect'].value_counts()"
   ]
  },
  {
   "cell_type": "code",
   "execution_count": null,
   "id": "1e47a3d4",
   "metadata": {},
   "outputs": [],
   "source": [
    "dectree, x_train, x_test, y_train, y_test = create_DecTree_ConfusionMatrix(x_var=predictor, y_var=response, df=yugioh_data_decisionTree_effect, max_depth=4)"
   ]
  },
  {
   "cell_type": "markdown",
   "id": "0eb5d4a5",
   "metadata": {},
   "source": [
    "There huge imbalance in the *False Positives* and *False Negatives* due to the large difference in `effect` where there are significantly more non-normal monsters compared to normal monsters"
   ]
  },
  {
   "cell_type": "markdown",
   "id": "712055ad",
   "metadata": {},
   "source": [
    "# Creating Decision Tree for Effect with balancing\n",
    "To improve on the previous model of predicting normal and non-normal monster through balancing.\n",
    "\n",
    "After balancing the data, we were able predict if normal and non-normal monster with a Classification Accuracy of around 0.65 for both train and test. The result is also relatively balance with False Positive and False Negative being close."
   ]
  },
  {
   "cell_type": "code",
   "execution_count": null,
   "id": "df14602a",
   "metadata": {},
   "outputs": [],
   "source": [
    "predictor = ['atk','def','level']\n",
    "response = ['effect']\n",
    "yugioh_data_decisionTree_effect = yugioh_data[predictor+response]\n",
    "sb.catplot(y = 'effect', data = yugioh_data_decisionTree_effect, kind = \"count\")\n",
    "yugioh_data_decisionTree_effect['effect'].value_counts()"
   ]
  },
  {
   "cell_type": "code",
   "execution_count": null,
   "id": "4d732d94",
   "metadata": {},
   "outputs": [],
   "source": [
    "from sklearn.utils import resample\n",
    "\n",
    "effect0_df = yugioh_data_decisionTree_effect[yugioh_data_decisionTree_effect.effect == 0]\n",
    "effect1_df = yugioh_data_decisionTree_effect[yugioh_data_decisionTree_effect.effect == 1]\n",
    "\n",
    "effect0_df_up = resample(effect0_df, \n",
    "                        replace=True,                     # sample with replacement\n",
    "                        n_samples=effect1_df.shape[0])    # to match number of Good\n",
    "\n",
    "yugioh_data_decisionTree_effect_balanced = pd.concat([effect1_df, effect0_df_up])\n",
    "sb.catplot(y = 'effect', data = yugioh_data_decisionTree_effect_balanced, kind = \"count\")\n",
    "yugioh_data_decisionTree_effect_balanced['effect'].value_counts()\n"
   ]
  },
  {
   "cell_type": "code",
   "execution_count": null,
   "id": "176c92d6",
   "metadata": {},
   "outputs": [],
   "source": [
    "dectree, x_train, x_test, y_train, y_test = create_DecTree_ConfusionMatrix(x_var=predictor, y_var=response, df=yugioh_data_decisionTree_effect_balanced, max_depth=3)"
   ]
  },
  {
   "cell_type": "markdown",
   "id": "4f2401dc",
   "metadata": {},
   "source": [
    "# EDA of Categorical Variable for Ban\n",
    "Using the price of different platforms to predict if a card is banned.\n",
    "\n",
    "In Yu-Gi-Oh, when a monsters is considered too powerful in the game, it can be banned. Thus we theorised it could be possible for these powerful banned cards to be predicted using the price of different platforms\n",
    "\n",
    "From our results below, it is possible to determine if a monster is \"ban\" using price since it is relatively consistent accross all the platform that the interquartile range of banned and not banned do not or barely cross each other's median.\n",
    "\n",
    "`atk`, `def` and `level` do not seem to play a significant role."
   ]
  },
  {
   "cell_type": "markdown",
   "id": "badf33c3",
   "metadata": {},
   "source": [
    "The false positives and false negatives are now more balanced through the used of upsampling."
   ]
  },
  {
   "cell_type": "code",
   "execution_count": null,
   "id": "13ef23c1",
   "metadata": {},
   "outputs": [],
   "source": [
    "categories = ['ban']\n",
    "#categories = ['tribute','frameType']\n",
    "price_columns = ['atk','def','level','cardmarket_price', 'tcgplayer_price', 'ebay_price', 'amazon_price', 'coolstuffinc_price', 'avg_price']\n",
    "yugioh_data_categorical = yugioh_data[categories+price_columns]\n",
    "\n",
    "\n",
    "print(yugioh_data_categorical['ban'].value_counts())\n",
    "#print(\"Number of categories: \", yugioh_data_categorical[var].value_counts().count())\n",
    "print()\n",
    "\n",
    "for price_var in price_columns:\n",
    "    print(price_var)\n",
    "    fig, ax = plt.subplots(figsize=(20, 3))\n",
    "    sb.boxplot(data = yugioh_data_categorical, x=price_var, y='ban', orient = 'h')\n",
    "    \n",
    "    plt.show()"
   ]
  },
  {
   "cell_type": "markdown",
   "id": "0853966c",
   "metadata": {},
   "source": [
    "# Creating Decision Tree for Ban\n",
    "Using a decision tree, we would be trying to create an ML model to predict if a monster is banned based on Price of different plaform and base stat of the monsters.\n",
    "\n"
   ]
  },
  {
   "cell_type": "code",
   "execution_count": null,
   "id": "ee1fdee7",
   "metadata": {},
   "outputs": [],
   "source": [
    "print(\"Check na value:\", yugioh_data['ban'].isnull().values.any())\n",
    "predictor = ['cardmarket_price', 'tcgplayer_price', 'ebay_price', 'amazon_price', 'coolstuffinc_price', 'avg_price']\n",
    "response = ['ban']\n",
    "yugioh_data_decisionTree_ban = yugioh_data[predictor+response]\n",
    "yugioh_data_decisionTree_ban['ban'].value_counts()"
   ]
  },
  {
   "cell_type": "code",
   "execution_count": null,
   "id": "b687f539",
   "metadata": {},
   "outputs": [],
   "source": [
    "dectree, x_train, x_test, y_train, y_test = create_DecTree_ConfusionMatrix(x_var=predictor, y_var=response, df=yugioh_data_decisionTree_ban, max_depth=4)"
   ]
  },
  {
   "cell_type": "markdown",
   "id": "2b09298d",
   "metadata": {},
   "source": [
    "There huge imbalance in the *False Positives* and *False Negatives* due to the large difference in `ban` where there are significantly less ban monsters"
   ]
  },
  {
   "cell_type": "markdown",
   "id": "114db233",
   "metadata": {},
   "source": [
    "# Creating Decision Tree for Ban with balancing\n",
    "To improve on the previous model of predicting banned monsters by balancing the data.\n",
    "\n",
    "After balancing the data, we were able predict accurately if a monster is banned based on price with a Classification Accuracy of around 0.72 for both train and test. The result is also relatively balance with False Positive and False Negative being close."
   ]
  },
  {
   "cell_type": "code",
   "execution_count": null,
   "id": "ab13ed19",
   "metadata": {},
   "outputs": [],
   "source": [
    "predictor = ['cardmarket_price', 'tcgplayer_price', 'ebay_price', 'amazon_price', 'coolstuffinc_price', 'avg_price']\n",
    "response = ['ban']\n",
    "yugioh_data_decisionTree_ban = yugioh_data[predictor+response]\n",
    "sb.catplot(y = 'ban', data = yugioh_data_decisionTree_ban, kind = \"count\")\n",
    "yugioh_data_decisionTree_ban['ban'].value_counts()"
   ]
  },
  {
   "cell_type": "code",
   "execution_count": null,
   "id": "13944155",
   "metadata": {},
   "outputs": [],
   "source": [
    "ban0_df = yugioh_data_decisionTree_ban[yugioh_data_decisionTree_ban.ban == 0]\n",
    "ban1_df = yugioh_data_decisionTree_ban[yugioh_data_decisionTree_ban.ban == 1]\n",
    "\n",
    "ban1_df_up = resample(ban1_df, \n",
    "                        replace=True,                     # sample with replacement\n",
    "                        n_samples=ban0_df.shape[0])    # to match number of Good\n",
    "\n",
    "yugioh_data_decisionTree_ban_balanced = pd.concat([ban0_df, ban1_df_up])\n",
    "sb.catplot(y = 'ban', data = yugioh_data_decisionTree_ban_balanced, kind = \"count\")\n",
    "yugioh_data_decisionTree_ban_balanced['ban'].value_counts()\n"
   ]
  },
  {
   "cell_type": "code",
   "execution_count": null,
   "id": "26074961",
   "metadata": {},
   "outputs": [],
   "source": [
    "dectree, x_train, x_test, y_train, y_test = create_DecTree_ConfusionMatrix(x_var=predictor, y_var=response, df=yugioh_data_decisionTree_ban_balanced, max_depth=4)"
   ]
  },
  {
   "cell_type": "markdown",
   "id": "ecbf6742",
   "metadata": {},
   "source": [
    "# Creating Decision Tree for Price of card\n",
    "Using the all different variables of the monster card, we would try to predict if a card is above or below the 75% price Quartile.\n",
    "\n",
    "Similar to the previous decision trees, we have balanced data.\n",
    "\n",
    "From our Decision Tree ML model we are able to obtain a Classification Accuracy of around 0.62 for both train and test for price of cards. We "
   ]
  },
  {
   "cell_type": "code",
   "execution_count": null,
   "id": "6683f7ad",
   "metadata": {},
   "outputs": [],
   "source": [
    "list(yugioh_data.columns)\n",
    "predictor = ['index',\n",
    " 'id',\n",
    " 'atk',\n",
    " 'def',\n",
    " 'level',\n",
    " 'tribute',\n",
    " 'sacrifice',\n",
    " 'effect',\n",
    " 'ban',\n",
    " 'atk+def',\n",
    " 'atkSq+defSq']\n",
    "yugioh_data['75priceQuartile'].value_counts()"
   ]
  },
  {
   "cell_type": "code",
   "execution_count": null,
   "id": "b290faed",
   "metadata": {},
   "outputs": [],
   "source": [
    "#Remove na values from 'sacrifice'\n",
    "print(\"Check na value:\", yugioh_data['75priceQuartile'].isnull().values.any())\n",
    "response = ['75priceQuartile']\n",
    "yugioh_data_decisionTree_price = yugioh_data[predictor+response].dropna(subset = ['75priceQuartile'])\n",
    "print(\"check na value:\", yugioh_data_decisionTree_price['75priceQuartile'].isnull().values.any())"
   ]
  },
  {
   "cell_type": "code",
   "execution_count": null,
   "id": "6a2e85f3",
   "metadata": {},
   "outputs": [],
   "source": [
    "price0_df = yugioh_data_decisionTree_price[yugioh_data_decisionTree_price['75priceQuartile'] == 0]\n",
    "price1_df = yugioh_data_decisionTree_price[yugioh_data_decisionTree_price['75priceQuartile'] == 1]\n",
    "\n",
    "price1_df_up = resample(price1_df, \n",
    "                        replace=True,                     # sample with replacement\n",
    "                        n_samples=price0_df.shape[0])    # to match number of Good\n",
    "\n",
    "yugioh_data_decisionTree_price_balanced = pd.concat([price0_df, price1_df_up])\n",
    "sb.catplot(y = '75priceQuartile', data = yugioh_data_decisionTree_price_balanced, kind = \"count\")\n",
    "yugioh_data_decisionTree_price_balanced['75priceQuartile'].value_counts()"
   ]
  },
  {
   "cell_type": "code",
   "execution_count": null,
   "id": "f2fb23fd",
   "metadata": {},
   "outputs": [],
   "source": [
    "dectree, x_train, x_test, y_train, y_test = create_DecTree_ConfusionMatrix(x_var=predictor, y_var=response, df=yugioh_data_decisionTree_price_balanced, max_depth=4)"
   ]
  },
  {
   "cell_type": "code",
   "execution_count": null,
   "id": "8ca127de",
   "metadata": {},
   "outputs": [],
   "source": []
  }
 ],
 "metadata": {
  "kernelspec": {
   "display_name": "Python 3 (ipykernel)",
   "language": "python",
   "name": "python3"
  },
  "language_info": {
   "codemirror_mode": {
    "name": "ipython",
    "version": 3
   },
   "file_extension": ".py",
   "mimetype": "text/x-python",
   "name": "python",
   "nbconvert_exporter": "python",
   "pygments_lexer": "ipython3",
   "version": "3.11.5"
  }
 },
 "nbformat": 4,
 "nbformat_minor": 5
}
